{
 "cells": [
  {
   "cell_type": "markdown",
   "id": "a446ae8e-ef43-42d7-bedf-25c3d9ef4ab8",
   "metadata": {},
   "source": [
    "# Set Axis"
   ]
  },
  {
   "cell_type": "code",
   "execution_count": 2,
   "id": "66f52aa3-40c4-49fb-ab5e-0939f2b3cea6",
   "metadata": {},
   "outputs": [],
   "source": [
    "%load_ext autoreload\n",
    "%autoreload 2\n",
    "%matplotlib inline\n",
    "%config InteractiveShell.ast_node_interactivity='last_expr_or_assign'"
   ]
  },
  {
   "cell_type": "code",
   "execution_count": 3,
   "id": "582bd726-b972-4c7f-93cc-128457362b08",
   "metadata": {},
   "outputs": [],
   "source": [
    "import pandas as pd"
   ]
  },
  {
   "cell_type": "code",
   "execution_count": 16,
   "id": "98fc6e5f-5da8-4561-b415-a979c821b26b",
   "metadata": {},
   "outputs": [
    {
     "data": {
      "text/html": [
       "<div>\n",
       "<style scoped>\n",
       "    .dataframe tbody tr th:only-of-type {\n",
       "        vertical-align: middle;\n",
       "    }\n",
       "\n",
       "    .dataframe tbody tr th {\n",
       "        vertical-align: top;\n",
       "    }\n",
       "\n",
       "    .dataframe thead tr th {\n",
       "        text-align: left;\n",
       "    }\n",
       "\n",
       "    .dataframe thead tr:last-of-type th {\n",
       "        text-align: right;\n",
       "    }\n",
       "</style>\n",
       "<table border=\"1\" class=\"dataframe\">\n",
       "  <thead>\n",
       "    <tr>\n",
       "      <th></th>\n",
       "      <th>attribute</th>\n",
       "      <th colspan=\"2\" halign=\"left\">weight</th>\n",
       "      <th colspan=\"2\" halign=\"left\">height</th>\n",
       "    </tr>\n",
       "    <tr>\n",
       "      <th></th>\n",
       "      <th>measurement</th>\n",
       "      <th>lb</th>\n",
       "      <th>kg</th>\n",
       "      <th>in</th>\n",
       "      <th>cm</th>\n",
       "    </tr>\n",
       "    <tr>\n",
       "      <th>user_id</th>\n",
       "      <th>sex</th>\n",
       "      <th></th>\n",
       "      <th></th>\n",
       "      <th></th>\n",
       "      <th></th>\n",
       "    </tr>\n",
       "  </thead>\n",
       "  <tbody>\n",
       "    <tr>\n",
       "      <th>1</th>\n",
       "      <th>M</th>\n",
       "      <td>88.0</td>\n",
       "      <td>40</td>\n",
       "      <td>61.41</td>\n",
       "      <td>156</td>\n",
       "    </tr>\n",
       "    <tr>\n",
       "      <th>2</th>\n",
       "      <th>F</th>\n",
       "      <td>143.0</td>\n",
       "      <td>65</td>\n",
       "      <td>73.62</td>\n",
       "      <td>187</td>\n",
       "    </tr>\n",
       "    <tr>\n",
       "      <th>3</th>\n",
       "      <th>F</th>\n",
       "      <td>145.2</td>\n",
       "      <td>66</td>\n",
       "      <td>72.05</td>\n",
       "      <td>183</td>\n",
       "    </tr>\n",
       "    <tr>\n",
       "      <th>4</th>\n",
       "      <th>M</th>\n",
       "      <td>55.0</td>\n",
       "      <td>121</td>\n",
       "      <td>62.99</td>\n",
       "      <td>160</td>\n",
       "    </tr>\n",
       "  </tbody>\n",
       "</table>\n",
       "</div>"
      ],
      "text/plain": [
       "attribute   weight      height     \n",
       "measurement     lb   kg     in   cm\n",
       "user_id sex                        \n",
       "1       M     88.0   40  61.41  156\n",
       "2       F    143.0   65  73.62  187\n",
       "3       F    145.2   66  72.05  183\n",
       "4       M     55.0  121  62.99  160"
      ]
     },
     "execution_count": 16,
     "metadata": {},
     "output_type": "execute_result"
    }
   ],
   "source": [
    "columns = pd.MultiIndex.from_tuples([(\"weight\", \"lb\"),(\"weight\", \"kg\"),(\"height\", \"in\"),(\"height\", \"cm\")], names=[\"attribute\", \"measurement\"])\n",
    "index = pd.MultiIndex.from_tuples([(1, \"M\"), (2, \"F\"), (3, \"F\"), (4, \"M\")], names=[\"user_id\", \"sex\"])\n",
    "df = pd.DataFrame([[88, 40, 61.41, 156], [143, 65, 73.62, 187], [145.2, 66, 72.05, 183], [55, 121, 62.99, 160]], index=index, columns=columns)"
   ]
  },
  {
   "cell_type": "markdown",
   "id": "15fdaf20-7bb4-4ba2-9ea8-c5e41e4fc6a9",
   "metadata": {},
   "source": [
    "## set_axis\n",
    "`set_axis` changes the columns and the indices. Alignment matters. Labels can be multi index."
   ]
  },
  {
   "cell_type": "code",
   "execution_count": 18,
   "id": "b6a66526-4ae1-49ad-b9b3-fbaec13bccd6",
   "metadata": {},
   "outputs": [
    {
     "data": {
      "text/plain": [
       "MultiIndex([('weight', 'lb'),\n",
       "            ('weight', 'kg'),\n",
       "            ('height', 'in'),\n",
       "            ('height', 'cm')],\n",
       "           names=['attribute', 'measurement'])"
      ]
     },
     "execution_count": 18,
     "metadata": {},
     "output_type": "execute_result"
    }
   ],
   "source": [
    "# original columns\n",
    "df.columns"
   ]
  },
  {
   "cell_type": "code",
   "execution_count": 22,
   "id": "ecc7c4bf-62f2-4309-b296-991a657b7f75",
   "metadata": {},
   "outputs": [
    {
     "data": {
      "text/html": [
       "<div>\n",
       "<style scoped>\n",
       "    .dataframe tbody tr th:only-of-type {\n",
       "        vertical-align: middle;\n",
       "    }\n",
       "\n",
       "    .dataframe tbody tr th {\n",
       "        vertical-align: top;\n",
       "    }\n",
       "\n",
       "    .dataframe thead th {\n",
       "        text-align: right;\n",
       "    }\n",
       "</style>\n",
       "<table border=\"1\" class=\"dataframe\">\n",
       "  <thead>\n",
       "    <tr style=\"text-align: right;\">\n",
       "      <th></th>\n",
       "      <th></th>\n",
       "      <th>1</th>\n",
       "      <th>2</th>\n",
       "      <th>3</th>\n",
       "      <th>4</th>\n",
       "    </tr>\n",
       "    <tr>\n",
       "      <th>user_id</th>\n",
       "      <th>sex</th>\n",
       "      <th></th>\n",
       "      <th></th>\n",
       "      <th></th>\n",
       "      <th></th>\n",
       "    </tr>\n",
       "  </thead>\n",
       "  <tbody>\n",
       "    <tr>\n",
       "      <th>1</th>\n",
       "      <th>M</th>\n",
       "      <td>88.0</td>\n",
       "      <td>40</td>\n",
       "      <td>61.41</td>\n",
       "      <td>156</td>\n",
       "    </tr>\n",
       "    <tr>\n",
       "      <th>2</th>\n",
       "      <th>F</th>\n",
       "      <td>143.0</td>\n",
       "      <td>65</td>\n",
       "      <td>73.62</td>\n",
       "      <td>187</td>\n",
       "    </tr>\n",
       "    <tr>\n",
       "      <th>3</th>\n",
       "      <th>F</th>\n",
       "      <td>145.2</td>\n",
       "      <td>66</td>\n",
       "      <td>72.05</td>\n",
       "      <td>183</td>\n",
       "    </tr>\n",
       "    <tr>\n",
       "      <th>4</th>\n",
       "      <th>M</th>\n",
       "      <td>55.0</td>\n",
       "      <td>121</td>\n",
       "      <td>62.99</td>\n",
       "      <td>160</td>\n",
       "    </tr>\n",
       "  </tbody>\n",
       "</table>\n",
       "</div>"
      ],
      "text/plain": [
       "                 1    2      3    4\n",
       "user_id sex                        \n",
       "1       M     88.0   40  61.41  156\n",
       "2       F    143.0   65  73.62  187\n",
       "3       F    145.2   66  72.05  183\n",
       "4       M     55.0  121  62.99  160"
      ]
     },
     "execution_count": 22,
     "metadata": {},
     "output_type": "execute_result"
    }
   ],
   "source": [
    "# new columns\n",
    "df_columns_set = df.set_axis([1,2,3,4], axis=\"columns\")"
   ]
  },
  {
   "cell_type": "code",
   "execution_count": 23,
   "id": "6db2714f-d15c-46fb-b41b-72f6bf758036",
   "metadata": {},
   "outputs": [
    {
     "data": {
      "text/plain": [
       "Int64Index([1, 2, 3, 4], dtype='int64')"
      ]
     },
     "execution_count": 23,
     "metadata": {},
     "output_type": "execute_result"
    }
   ],
   "source": [
    "df_columns_set.columns"
   ]
  },
  {
   "cell_type": "code",
   "execution_count": 24,
   "id": "704de3c3-084d-40de-b232-87d2ef6e0fda",
   "metadata": {},
   "outputs": [
    {
     "data": {
      "text/html": [
       "<div>\n",
       "<style scoped>\n",
       "    .dataframe tbody tr th:only-of-type {\n",
       "        vertical-align: middle;\n",
       "    }\n",
       "\n",
       "    .dataframe tbody tr th {\n",
       "        vertical-align: top;\n",
       "    }\n",
       "\n",
       "    .dataframe thead tr th {\n",
       "        text-align: left;\n",
       "    }\n",
       "</style>\n",
       "<table border=\"1\" class=\"dataframe\">\n",
       "  <thead>\n",
       "    <tr>\n",
       "      <th>attribute</th>\n",
       "      <th colspan=\"2\" halign=\"left\">weight</th>\n",
       "      <th colspan=\"2\" halign=\"left\">height</th>\n",
       "    </tr>\n",
       "    <tr>\n",
       "      <th>measurement</th>\n",
       "      <th>lb</th>\n",
       "      <th>kg</th>\n",
       "      <th>in</th>\n",
       "      <th>cm</th>\n",
       "    </tr>\n",
       "  </thead>\n",
       "  <tbody>\n",
       "    <tr>\n",
       "      <th>1</th>\n",
       "      <td>88.0</td>\n",
       "      <td>40</td>\n",
       "      <td>61.41</td>\n",
       "      <td>156</td>\n",
       "    </tr>\n",
       "    <tr>\n",
       "      <th>2</th>\n",
       "      <td>143.0</td>\n",
       "      <td>65</td>\n",
       "      <td>73.62</td>\n",
       "      <td>187</td>\n",
       "    </tr>\n",
       "    <tr>\n",
       "      <th>3</th>\n",
       "      <td>145.2</td>\n",
       "      <td>66</td>\n",
       "      <td>72.05</td>\n",
       "      <td>183</td>\n",
       "    </tr>\n",
       "    <tr>\n",
       "      <th>4</th>\n",
       "      <td>55.0</td>\n",
       "      <td>121</td>\n",
       "      <td>62.99</td>\n",
       "      <td>160</td>\n",
       "    </tr>\n",
       "  </tbody>\n",
       "</table>\n",
       "</div>"
      ],
      "text/plain": [
       "attribute   weight      height     \n",
       "measurement     lb   kg     in   cm\n",
       "1             88.0   40  61.41  156\n",
       "2            143.0   65  73.62  187\n",
       "3            145.2   66  72.05  183\n",
       "4             55.0  121  62.99  160"
      ]
     },
     "execution_count": 24,
     "metadata": {},
     "output_type": "execute_result"
    }
   ],
   "source": [
    "df_indices_set = df.set_axis([1,2,3,4], axis=\"index\")"
   ]
  },
  {
   "cell_type": "code",
   "execution_count": 25,
   "id": "070c74e0-b2fe-40c8-8456-ac39b531f91a",
   "metadata": {},
   "outputs": [
    {
     "data": {
      "text/plain": [
       "Int64Index([1, 2, 3, 4], dtype='int64')"
      ]
     },
     "execution_count": 25,
     "metadata": {},
     "output_type": "execute_result"
    }
   ],
   "source": [
    "df_indices_set.index"
   ]
  }
 ],
 "metadata": {
  "kernelspec": {
   "display_name": "Python 3 (ipykernel)",
   "language": "python",
   "name": "python3"
  },
  "language_info": {
   "codemirror_mode": {
    "name": "ipython",
    "version": 3
   },
   "file_extension": ".py",
   "mimetype": "text/x-python",
   "name": "python",
   "nbconvert_exporter": "python",
   "pygments_lexer": "ipython3",
   "version": "3.10.4"
  }
 },
 "nbformat": 4,
 "nbformat_minor": 5
}
